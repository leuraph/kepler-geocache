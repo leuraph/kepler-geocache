{
 "cells": [
  {
   "cell_type": "code",
   "execution_count": 1,
   "id": "04dbdf29-f474-4027-ad7e-5b5f1141a111",
   "metadata": {},
   "outputs": [],
   "source": [
    "import numpy as np\n",
    "from scipy.constants import G\n",
    "from scipy.integrate import quad\n",
    "import matplotlib.pyplot as plt"
   ]
  },
  {
   "cell_type": "markdown",
   "id": "087be7e9-7270-48b2-bf8e-83d1f523d8f2",
   "metadata": {},
   "source": [
    "## Planet"
   ]
  },
  {
   "cell_type": "code",
   "execution_count": 10,
   "id": "de71371e-8672-4233-b8cc-e890700559f3",
   "metadata": {},
   "outputs": [],
   "source": [
    "# Planet\n",
    "rho_planet = 7874 # Dichte Eisen (kg / m^3)\n",
    "R_planet = 5700e3 # Radius (m)\n",
    "V_planet = 4./3. * np.pi * R_planet**3\n",
    "M_planet = rho_planet * V_planet # Masse (kg)\n",
    "T_planet =  24 * 60 * 60# Länge eines Tages (Dauer einer Umdrehung) (s)\n",
    "omega_planet = 2.*np.pi/T_planet # Winkelgeschwindigkeit"
   ]
  },
  {
   "cell_type": "markdown",
   "id": "0d20d708-c9bc-4e14-a185-4d0cbf3febc1",
   "metadata": {},
   "source": [
    "## Geostationärer Satelit"
   ]
  },
  {
   "cell_type": "markdown",
   "id": "686b480b-7bad-4836-b269-c5f630c89d23",
   "metadata": {},
   "source": [
    "Wir ermitteln die Höhe des geostationären Sateliten.\n",
    "$$F_{\\text G} (r) = \\frac{G mM}{r^2}$$\n",
    "\n",
    "$$\n",
    "F_{\\text Z} (r) = \\frac{m v^2 }{ r } = m r \\omega^2\n",
    "$$\n",
    "\n",
    "$$\n",
    "F_{\\text Z} (R_{\\text{stat}})\n",
    "\\overset{!}{=}\n",
    "F_{\\text G} (R_{\\text{stat}})\n",
    "\\quad \\Rightarrow \\quad\n",
    "R_{\\text{stat}}\n",
    "=\n",
    "\\sqrt[3]{\\frac{MG}{\\omega^2}}\n",
    "$$"
   ]
  },
  {
   "cell_type": "code",
   "execution_count": 12,
   "id": "e95c4d47-6a21-4efc-b8be-ed31a8aeb224",
   "metadata": {},
   "outputs": [],
   "source": [
    "M_sat = 235 # Masse (kg)"
   ]
  },
  {
   "cell_type": "code",
   "execution_count": 36,
   "id": "7485cf14-241f-428d-a1f0-a035cc28d7f5",
   "metadata": {},
   "outputs": [],
   "source": [
    "R_sat =  1.1*R_planet # ((G * M_planet)/(omega_planet**2))**(1./3.) # (m)\n",
    "v_sat = R_sat * omega_planet # (m/s)"
   ]
  },
  {
   "cell_type": "code",
   "execution_count": 37,
   "id": "a5095d58-c9a4-4f0d-a99d-7863ea7912f5",
   "metadata": {},
   "outputs": [
    {
     "name": "stdout",
     "output_type": "stream",
     "text": [
      "Der Satelit ist 6.27e+06 m vom Zentrum des Planeten und 5.7e+05 m von der Oberfläche des Planeten entfernt.\n"
     ]
    }
   ],
   "source": [
    "print(f'Der Satelit ist {R_sat:.3} m vom Zentrum des Planeten und {R_sat - R_planet:.3} m von der Oberfläche des Planeten entfernt.')"
   ]
  },
  {
   "cell_type": "markdown",
   "id": "215839db-1c8d-458a-b6c7-244b3c29f6fb",
   "metadata": {},
   "source": [
    "## Meteorit"
   ]
  },
  {
   "cell_type": "code",
   "execution_count": 49,
   "id": "c4c84cad-2521-4495-9221-faaba9d04e9e",
   "metadata": {},
   "outputs": [],
   "source": [
    "M_met = M_sat # Masse des Meteoriten (kg)\n",
    "v_met = 0.9 * v_sat # Geschwindigkeit des Meteoriten (m/s)"
   ]
  },
  {
   "cell_type": "markdown",
   "id": "e945c684-defb-4fda-8d23-c3bfdb263a91",
   "metadata": {},
   "source": [
    "## Meteorit und Satelit\n",
    "\n",
    "Nach dem vollkommen unelastischen Stoss haben wir (Impulserhaltung):\n",
    "\n",
    "$$\n",
    "v_{\\text{tot}} = \\frac{m_\\text{sat} v_\\text{sat} - m_\\text{met} v_\\text{met}}{m_{\\text{tot}}}.\n",
    "$$"
   ]
  },
  {
   "cell_type": "code",
   "execution_count": 50,
   "id": "8d96f372-1a7d-44cd-91d3-bfd923174125",
   "metadata": {},
   "outputs": [
    {
     "name": "stdout",
     "output_type": "stream",
     "text": [
      "Der Satelit und der Meteorit bewegen sich nach dem Stoss mit 22.798363354175905 m/s.\n"
     ]
    }
   ],
   "source": [
    "M_tot = M_met + M_sat\n",
    "v_tot_0 = (M_sat * v_sat - M_met * v_met)/(M_tot)\n",
    "theta_prime_0 = v_tot_0 / R_sat\n",
    "\n",
    "print(f'Der Satelit und der Meteorit bewegen sich nach dem Stoss mit {v_tot_0} m/s.')"
   ]
  },
  {
   "cell_type": "code",
   "execution_count": 56,
   "id": "11b27791-c859-42f9-978b-8980264eeea8",
   "metadata": {},
   "outputs": [],
   "source": [
    "k = G*M_planet\n",
    "\n",
    "def potential(r):\n",
    "    return - k/r\n",
    "\n",
    "def angular_momentum(r, theta_prime):\n",
    "    return M_tot * r**2 * theta_prime\n",
    "\n",
    "def energy(r, r_prime, theta_prime):\n",
    "    V = potential(r)\n",
    "    l = angular_momentum(r, theta_prime)\n",
    "    return 0.5 * M_tot * r_prime**2 + 0.5 * l**2/(M_tot*r**2) + V"
   ]
  },
  {
   "cell_type": "markdown",
   "id": "9a0cdfff-cc34-4ebb-b09e-fa3a9dcdda92",
   "metadata": {},
   "source": [
    "## Anfangsbedignungen"
   ]
  },
  {
   "cell_type": "code",
   "execution_count": 57,
   "id": "d253aa6f-3148-44f1-9123-abaa4cabc506",
   "metadata": {},
   "outputs": [
    {
     "name": "stdout",
     "output_type": "stream",
     "text": [
      "-64897825.85974558\n"
     ]
    }
   ],
   "source": [
    "E = energy(r=R_sat, r_prime=0., theta_prime=theta_prime_0)\n",
    "l = angular_momentum(r=R_sat, theta_prime=theta_prime_0)\n",
    "\n",
    "a = -k / (2. * E)\n",
    "\n",
    "\n",
    "print(E)\n",
    "\n",
    "def integrand(r):\n",
    "    return 1/r**2 * 1/np.sqrt(\n",
    "        2.*M_tot * E / l**2\n",
    "        -\n",
    "        2.*M_tot * potential(r) / l**2 \n",
    "        -\n",
    "        1./r**2\n",
    "    )"
   ]
  },
  {
   "cell_type": "code",
   "execution_count": 53,
   "id": "8929aeff-eabf-43e7-9b8e-63db4987fca8",
   "metadata": {},
   "outputs": [
    {
     "name": "stderr",
     "output_type": "stream",
     "text": [
      "/tmp/ipykernel_15780/3541400502.py:5: RuntimeWarning: invalid value encountered in sqrt\n",
      "  return 1/r**2 * 1/np.sqrt(\n"
     ]
    },
    {
     "data": {
      "text/plain": [
       "(-0.027464724939457057, 4.4079077853032e-09)"
      ]
     },
     "execution_count": 53,
     "metadata": {},
     "output_type": "execute_result"
    },
    {
     "data": {
      "image/png": "[encoded data removed]",
      "text/plain": [
       "<Figure size 640x480 with 1 Axes>"
      ]
     },
     "metadata": {},
     "output_type": "display_data"
    }
   ],
   "source": [
    "xs = np.linspace(R_sat, R_planet, 100000)\n",
    "plt.semilogy(xs, integrand(xs))\n",
    "\n",
    "quad(func=integrand, a=R_sat, b=R_planet)"
   ]
  },
  {
   "cell_type": "code",
   "execution_count": null,
   "id": "6fb82761-03c1-4aa1-9416-8e7e438abc9e",
   "metadata": {},
   "outputs": [],
   "source": []
  }
 ],
 "metadata": {
  "kernelspec": {
   "display_name": "Python 3 (ipykernel)",
   "language": "python",
   "name": "python3"
  },
  "language_info": {
   "codemirror_mode": {
    "name": "ipython",
    "version": 3
   },
   "file_extension": ".py",
   "mimetype": "text/x-python",
   "name": "python",
   "nbconvert_exporter": "python",
   "pygments_lexer": "ipython3",
   "version": "3.9.18"
  }
 },
 "nbformat": 4,
 "nbformat_minor": 5
}
